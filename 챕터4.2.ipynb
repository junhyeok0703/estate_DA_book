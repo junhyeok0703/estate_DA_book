{
 "cells": [
  {
   "cell_type": "markdown",
   "metadata": {},
   "source": [
    "### 일자리\n",
    "\n",
    "- 부동산과 일자리는 어떤 관계일까?\n",
    "- 학군과 함께 가장  중요한 요소는 일자리이다.\n",
    "- 양질의 일자리가 있어야 사람들이 모인다.\n",
    "- 해당지역에 위치한 일자리 뿐만 아니라 양질의 일자리가 집중된 지역과 얼마나 가까운지 혹은 교통이 잘 연결돼 있는지 (분당과 강남)\n",
    "- 하지만 인근지역과 교통,거리까지 고려하면 너무 복잡하니 일자리와 가격과 생각해보자.\n",
    "\n",
    "- 고용노동통계\n",
    "- 교옹자수가 역시나 서울,수도권지역이 압도적으로 높다!\n",
    "- 단순히 고용자 절대수가 아닌 시도별 세대수 대비 고용자 수를 보면 어떨까?\n",
    "- 시도별 세대수 대비 고용자수를 보면 서울은 여전히 높은 포지션이다. 서울은 대단하다...\n",
    "- 그다음으로 경기도가 아닌 울산이 있다.\n",
    "- 세대수 대비 고율비율과 매매가격을 보자.\n",
    "- 고용비율이 높을수록 아파트 가격이 높다는 것을 알 수 있다.\n",
    "- 울산은 서울 다음으로 세대수 대비 고용비율이 높은데 매매가격이 낮다는것을 확인할수있는데 일자리외에 교통,교육환경등 다른 요소들이 부족하다는것을 반영하고있는듯보인다.\n",
    "- 각 시도에서 일자리를 비교해보자.\n",
    "- 중구,종로구,강남,서초등의 지역이 눈에 띈다. 서울에 기업들의 본사들이 밀집되어있어서 이해가 가는 결과이다.\n",
    "- **중구와 종로구는 세대수가 서울시내에서 가장 적은 지역으로 그야말로 출근하는 곳이지 거주 지역이 아니라고 할 수 있다.**\n",
    "- 강남구는 세대수 대비 고용의 비율도 높은데 세대수도 서울에서 네번째로 높다. -> 즉 일자리도 많고 근처에 거주할수있는 시설도 잘 갖춘 지역이다. 그래서 집값이 낮을 수가 없다.\n",
    "- 매매가격과 함께보면 명확하게 볼수있다.\n",
    "- 강남과 서초는 고용비율과 아파트 가격이 모두 높다.\n",
    "- 하지만 중구와 종로구는 일자리 비율은 높지만 아파트가격은 그에 못 미치는데 일자리기능은 좋을지라도 거주지로서는 기능이 떨어진다.\n",
    "- 이런 점을 더 명확히 보기 위해 각 구의 세대수 대비 고용비율과 세대수의 절대값, 그리고 평균아파트가격을 함께 살펴보자.\n",
    "- 학군 분석 때와 유사하게 세대수 대비 고용자 수는 x축, 세대수의 절대값은 y축 , 평균 아파트 가격은 점크기와 색깔\n",
    "- 강남구는 거주하는 세대수가 많고 세대수 대비 고용비율도 높다 그로 인해 가격이 높다.\n",
    "- 중구와 종로구는 고용비율이 높지만 세대수가 너무 맞다. 일하는 사람들은 이 구에서 사는 사람이 아닐 것이라고 추측이 가능\n",
    "- 송파구는 고용비율이 낮지만 평균 아파트 매매가격이 높다. 가까운 강남과 출근하기 수월하기 때문이다 (송파<->강남)\n",
    "- 이렇듯 일자리의 경우 단순히 고용이 얼마나 일어나는지를 넘어 거주지로서의 기능을 하는지 고용이 많이 일어나는 지역과 얼마나 가까운지등의 복합적인 요소가 중요하다.\n",
    "- 세대수 대비 고용비율말고 고용자수 절대값으로 보면 강남구와 서초구에 많은 일자리가 몰려있고 그래프의 세대수가 많고 고용자 수가 적은 오른쪽 아래로 갈수록 일자리 지역에 가깝다는 것을 알 수 있다.\n",
    "- **관악구나 노원구,은평구등의 거주지역(일자리와 가깝다)이고 종로구나 중구는 일자리 지역이다.**\n",
    "- 울산을 보자.\n",
    "- 세대수 대비 고용비율이 절대적으로 높은 곳이 남구이다.\n",
    "- 울산시 대장구는 남구라고 알수있다. 중구는 다른구에 비해 세대수는 높지만 고용비율이 너무 낮다. 주거기능만 담당하는 베드타운 같은 구일것이다.\n",
    "- 평균아파트가격은 일자리도 많고 거주하는 사람도 많은 남구가 가장 높다.\n",
    "- 하지만 중구 매매가격과 남구와 엇비슷하다. 중구는 최근 우정혁신도시 이슈가 있었고 울산의 구시가지였기에 기반시설이 다른 구에 비해 잘 정비되어있다.\n",
    "- 대구를 보자.\n",
    "- 일자리 관점으로는 돋보이지 않는다.\n",
    "- 중구를 제외한 모든 지역의 고용비율이 60~80%사이에 몰려있고 일자리가 모든 구에 골고루 퍼져있다.\n",
    "- 대구에서 가장 가격이 높은 수성구는 일자리 때문이 아니라 고육환경의 요인같다. 대구시는 전체적으로 일자리와 큰 관계가 없다.\n",
    "\n",
    "### 정리\n",
    "- 세대수도 많고 고용비율도 높은 지역은 같은 지역안에서 상대적으로 부동산 가격이 높은 강세를 보인다.\n",
    "- 하지만 그외지역은 부동산 가격이 고용비율과 같은 일자리와 관련된 요소 외에 교육환경,일자리 지역과의 교통등 다양한 요인에 영향을 받아 복합적으로 살펴야겠다.\n",
    "- 그리고 대구시처럼 일자리 요소가 모든 지역이 평준화 되있으면 학군이나 교통, 다른 요인이 일자리보다 더 중요하다.\n",
    "\n"
   ]
  },
  {
   "cell_type": "code",
   "execution_count": 1,
   "metadata": {},
   "outputs": [],
   "source": [
    "import pandas as pd\n",
    "\n",
    "# job_path = r'C:\\Users\\JK\\Desktop\\부동산 데이터\\지역고용통계.xls'\n",
    "job_path = r' 고용 데이터 파일 디렉터리 \\ 지역고용통계.xls'\n",
    "job_raw = pd.read_excel(job_path, skiprows=2)"
   ]
  },
  {
   "cell_type": "code",
   "execution_count": null,
   "metadata": {},
   "outputs": [],
   "source": [
    "job_data = job_raw[job_raw['산업별'] == '전산업']\n",
    "job_data = job_data[['지역별', '전체종사자 (명)']]\n",
    "job_data.columns = ['지역명',  '고용자수']"
   ]
  },
  {
   "cell_type": "code",
   "execution_count": null,
   "metadata": {},
   "outputs": [],
   "source": [
    "def get_sido(x):\n",
    "    temp = x.split(' ')[0]\n",
    "    if len(temp) != 4:\n",
    "        return temp[:2]\n",
    "    else:\n",
    "        return temp[0] + temp[2]\n",
    "\n",
    "job_data['시도'] = job_data['지역명'].apply(get_sido)\n",
    "job_data['구군'] = job_data['지역명'].apply(lambda x: x.split(' ')[1])"
   ]
  },
  {
   "cell_type": "code",
   "execution_count": null,
   "metadata": {},
   "outputs": [],
   "source": [
    "def job_preprocessing(path):\n",
    "    job_raw = pd.read_excel(path, skiprows=2)\n",
    "    job_data = job_raw[job_raw['산업별'] == '전산업']\n",
    "    job_data = job_data[['지역별', '전체종사자 (명)']]\n",
    "    job_data.columns = ['지역명',  '고용자수']\n",
    "    \n",
    "    def get_sido(x):\n",
    "        temp = x.split(' ')[0]\n",
    "        if len(temp) != 4:\n",
    "            return temp[:2]\n",
    "        else:\n",
    "            return temp[0] + temp[2]\n",
    "\n",
    "    job_data['시도'] = job_data['지역명'].apply(get_sido)\n",
    "    job_data['구군'] = job_data['지역명'].apply(lambda x: x.split(' ')[1])\n",
    "    \n",
    "    return job_data"
   ]
  },
  {
   "cell_type": "code",
   "execution_count": 3,
   "metadata": {},
   "outputs": [
    {
     "name": "stderr",
     "output_type": "stream",
     "text": [
      "/opt/homebrew/anaconda3/lib/python3.12/site-packages/openpyxl/styles/stylesheet.py:226: UserWarning: Workbook contains no default style, apply openpyxl's default\n",
      "  warn(\"Workbook contains no default style, apply openpyxl's default\")\n"
     ]
    }
   ],
   "source": [
    "\n",
    "house_n_path = r'/Users/parkjunhyeok/Desktop/부동산데이터분석/행정구역_시군구_별_주민등록세대수_20190107134842.xlsx'\n",
    "house_n_raw = pd.read_excel(house_n_path)"
   ]
  },
  {
   "cell_type": "code",
   "execution_count": 4,
   "metadata": {},
   "outputs": [],
   "source": [
    "\n",
    "house_n_raw.columns = ['시도', '구군', '세대수']\n",
    "\n",
    "big_col = []\n",
    "for num, temp in enumerate(house_n_raw['시도']):\n",
    "    if pd.isna(temp) :\n",
    "        big_col.append(big_col[num-1])\n",
    "    else:\n",
    "        big_col.append(temp)\n",
    "\n",
    "house_n_raw['시도'] = big_col"
   ]
  },
  {
   "cell_type": "code",
   "execution_count": 5,
   "metadata": {},
   "outputs": [],
   "source": [
    "def get_sido(x):\n",
    "    if len(x) != 4:\n",
    "        return x[:2]\n",
    "    else:\n",
    "        return x[0] + x[2]\n",
    "\n",
    "house_n_raw['시도'] = house_n_raw['시도'].apply(get_sido)\n",
    "house_n_data = house_n_raw[house_n_raw['구군'] != '소계']"
   ]
  },
  {
   "cell_type": "code",
   "execution_count": 6,
   "metadata": {},
   "outputs": [],
   "source": [
    "def house_number_preprocessing(path):\n",
    "    house_n_raw = pd.read_excel(path)\n",
    "    house_n_raw.columns = ['시도', '구군', '세대수']\n",
    "\n",
    "    big_col = []\n",
    "    for num, temp in enumerate(house_n_raw['시도']):\n",
    "        if pd.isna(temp) :\n",
    "            big_col.append(big_col[num-1])\n",
    "        else:\n",
    "            big_col.append(temp)\n",
    "\n",
    "    house_n_raw['시도'] = big_col\n",
    "    \n",
    "    def get_sido(x):\n",
    "        if len(x) != 4:\n",
    "            return x[:2]\n",
    "        else:\n",
    "            return x[0] + x[2]\n",
    "\n",
    "    house_n_raw['시도'] = house_n_raw['시도'].apply(get_sido)\n",
    "    house_n_data = house_n_raw[house_n_raw['구군'] != '소계']\n",
    "    \n",
    "    return house_n_data"
   ]
  },
  {
   "cell_type": "code",
   "execution_count": null,
   "metadata": {},
   "outputs": [],
   "source": [
    "job_path = r' 고용 데이터 파일 디렉터리 \\ 지역고용통계.xls'\n",
    "job_df = job_preprocessing(job_path)\n",
    "\n",
    "job_sido = job_df.groupby('시도').sum()\n",
    "job_sido = job_sido.sort_values(by='고용자수', ascending=False)"
   ]
  },
  {
   "cell_type": "code",
   "execution_count": null,
   "metadata": {},
   "outputs": [],
   "source": [
    "import matplotlib.pyplot as plt\n",
    "from matplotlib import font_manager, rc\n",
    "from matplotlib import style\n",
    "import seaborn as sns\n",
    "style.use('ggplot')\n",
    "%matplotlib inline\n",
    "\n",
    "rc('font', family='AppleGothic')\n",
    "plt.rcParams['axes.unicode_minus'] = False\n",
    "\n",
    "\n",
    "plt.figure(figsize=(12, 4))\n",
    "job_sido['고용자수'].plot(kind='bar', color='darkcyan')\n",
    "plt.axhline(y=job_sido['고용자수'].mean(), color='orange', linewidth=2, ls='--')\n",
    "plt.xticks(rotation=0)\n",
    "plt.xlabel('')\n",
    "plt.ylabel('고용자수')\n",
    "plt.show()"
   ]
  },
  {
   "cell_type": "code",
   "execution_count": 7,
   "metadata": {},
   "outputs": [
    {
     "name": "stderr",
     "output_type": "stream",
     "text": [
      "/opt/homebrew/anaconda3/lib/python3.12/site-packages/openpyxl/styles/stylesheet.py:226: UserWarning: Workbook contains no default style, apply openpyxl's default\n",
      "  warn(\"Workbook contains no default style, apply openpyxl's default\")\n"
     ]
    },
    {
     "ename": "NameError",
     "evalue": "name 'job_sido' is not defined",
     "output_type": "error",
     "traceback": [
      "\u001b[0;31m---------------------------------------------------------------------------\u001b[0m",
      "\u001b[0;31mNameError\u001b[0m                                 Traceback (most recent call last)",
      "Cell \u001b[0;32mIn[7], line 4\u001b[0m\n\u001b[1;32m      1\u001b[0m house_n_path \u001b[38;5;241m=\u001b[39m \u001b[38;5;124mr\u001b[39m\u001b[38;5;124m'\u001b[39m\u001b[38;5;124m/Users/parkjunhyeok/Desktop/부동산데이터분석/행정구역_시군구_별_주민등록세대수_20190107134842.xlsx\u001b[39m\u001b[38;5;124m'\u001b[39m\n\u001b[1;32m      2\u001b[0m house_n_df \u001b[38;5;241m=\u001b[39m house_number_preprocessing(house_n_path)\n\u001b[0;32m----> 4\u001b[0m job_sido[\u001b[38;5;124m'\u001b[39m\u001b[38;5;124m세대수\u001b[39m\u001b[38;5;124m'\u001b[39m] \u001b[38;5;241m=\u001b[39m house_n_df\u001b[38;5;241m.\u001b[39mgroupby(\u001b[38;5;124m'\u001b[39m\u001b[38;5;124m시도\u001b[39m\u001b[38;5;124m'\u001b[39m)\u001b[38;5;241m.\u001b[39msum()\u001b[38;5;241m.\u001b[39mloc[job_sido\u001b[38;5;241m.\u001b[39mindex]\n\u001b[1;32m      5\u001b[0m job_sido[\u001b[38;5;124m'\u001b[39m\u001b[38;5;124m세대수대비고용\u001b[39m\u001b[38;5;124m'\u001b[39m] \u001b[38;5;241m=\u001b[39m job_sido[\u001b[38;5;124m'\u001b[39m\u001b[38;5;124m고용자수\u001b[39m\u001b[38;5;124m'\u001b[39m]\u001b[38;5;241m/\u001b[39mjob_sido[\u001b[38;5;124m'\u001b[39m\u001b[38;5;124m세대수\u001b[39m\u001b[38;5;124m'\u001b[39m] \u001b[38;5;241m*\u001b[39m \u001b[38;5;241m100\u001b[39m\n",
      "\u001b[0;31mNameError\u001b[0m: name 'job_sido' is not defined"
     ]
    }
   ],
   "source": [
    "house_n_path = r'/Users/parkjunhyeok/Desktop/부동산데이터분석/행정구역_시군구_별_주민등록세대수_20190107134842.xlsx'\n",
    "house_n_df = house_number_preprocessing(house_n_path)\n",
    "\n",
    "job_sido['세대수'] = house_n_df.groupby('시도').sum().loc[job_sido.index]\n",
    "job_sido['세대수대비고용'] = job_sido['고용자수']/job_sido['세대수'] * 100"
   ]
  },
  {
   "cell_type": "code",
   "execution_count": null,
   "metadata": {},
   "outputs": [],
   "source": [
    "\n",
    "plt.figure(figsize=(12, 4))\n",
    "job_sido.sort_values(by='세대수대비고용', ascending=False)['세대수대비고용'].plot(kind='bar', color='darkcyan')\n",
    "plt.axhline(y=job_sido['세대수대비고용'].mean(), color='orange', linewidth=2, ls='--')\n",
    "plt.xticks(rotation=0)\n",
    "plt.xlabel('')\n",
    "plt.ylabel('세대수 대비 고용자수 (%)')\n",
    "plt.show()"
   ]
  },
  {
   "cell_type": "code",
   "execution_count": 8,
   "metadata": {},
   "outputs": [
    {
     "name": "stderr",
     "output_type": "stream",
     "text": [
      "/var/folders/j6/q47by8d57xv9mxr1cgqzpp_w0000gn/T/ipykernel_62415/876893437.py:29: UserWarning: Could not infer format, so each element will be parsed individually, falling back to `dateutil`. To ensure parsing is consistent and as-expected, please specify a format.\n",
      "  transposed_price.index = pd.to_datetime(time_index)\n"
     ]
    }
   ],
   "source": [
    "def gamjungwon_price_preprocessing(path):\n",
    "    row_price = pd.read_excel(path, skiprows=10)\n",
    "    \n",
    "    big_col = []\n",
    "    for num, temp in enumerate(row_price['지 역']):\n",
    "        if pd.isna(temp) :\n",
    "            big_col.append(big_col[num-1])\n",
    "        else:\n",
    "            big_col.append(temp)\n",
    "\n",
    "\n",
    "    small_col = []\n",
    "    for num in range(len(row_price)):\n",
    "        temp_list = list(row_price[['지 역', 'Unnamed: 1', 'Unnamed: 2', 'Unnamed: 3']].iloc[num])\n",
    "        for temp in temp_list[3::-1]:\n",
    "            if not pd.isna(temp):\n",
    "                small_col.append(temp)\n",
    "                break\n",
    "\n",
    "    row_price.index = [big_col, small_col]\n",
    "    \n",
    "    transposed_price = row_price.drop(['지 역', 'Unnamed: 1', 'Unnamed: 2', 'Unnamed: 3'], axis=1).T\n",
    "    \n",
    "    time_index = []\n",
    "    for time in transposed_price.index:\n",
    "        temp = time.split(' ')\n",
    "        time_index.append(temp[0][:-1]+'.'+temp[1][:-1])\n",
    "\n",
    "    transposed_price.index = pd.to_datetime(time_index)\n",
    "    \n",
    "    return transposed_price\n",
    "\n",
    "\n",
    "price_path =  r'/Users/parkjunhyeok/Desktop/부동산데이터분석/평균매매가격_아파트.xlsx'\n",
    "price_df = gamjungwon_price_preprocessing(price_path)"
   ]
  },
  {
   "cell_type": "code",
   "execution_count": null,
   "metadata": {},
   "outputs": [],
   "source": [
    "sido_list = []\n",
    "for i in job_sido.index:\n",
    "    sido_list.append(price_df.loc['2018-6-1'][i][i])\n",
    "      \n",
    "job_sido['평균매매가격'] = sido_list\n",
    "\n",
    "plt.figure(figsize=(10, 6))\n",
    "plt.scatter(job_sido['고용자수'], job_sido['세대수'], c=job_sido['평균매매가격'], s=job_sido['평균매매가격']*0.001, cmap=\"YlOrRd\", alpha=0.5 )\n",
    "plt.xlabel('고용자수')\n",
    "plt.ylabel('세대수')\n",
    "for name in job_sido.index:\n",
    "    plt.text(job_sido['고용자수'][name]*1.01, job_sido['세대수'][name]*1.05, name, fontsize=13)\n",
    "\n",
    "plt.colorbar()\n",
    "plt.show()"
   ]
  },
  {
   "cell_type": "code",
   "execution_count": null,
   "metadata": {},
   "outputs": [],
   "source": [
    "plt.figure(figsize=(10, 6))\n",
    "plt.scatter(job_sido['세대수대비고용'], job_sido['세대수'], c=job_sido['평균매매가격'], s=job_sido['평균매매가격']*0.001, cmap=\"YlOrRd\", alpha=0.5 )\n",
    "plt.xlabel('세대수 대비 고용자수 (%)')\n",
    "plt.ylabel('세대수')\n",
    "for name in job_sido.index:\n",
    "    plt.text(job_sido['세대수대비고용'][name]*1.01, job_sido['세대수'][name]*1.05, name, fontsize=13)\n",
    "\n",
    "plt.colorbar()\n",
    "plt.show()"
   ]
  },
  {
   "cell_type": "code",
   "execution_count": null,
   "metadata": {},
   "outputs": [],
   "source": [
    "local = '서울'\n",
    "\n",
    "job_gugun = job_df[job_df['시도']==local].groupby('구군').sum()\n",
    "job_gugun['세대수'] = house_n_df[house_n_df['시도'] == local].groupby('구군').sum().loc[job_gugun.index]\n",
    "job_gugun['세대수대비고용'] = job_gugun['고용자수']/job_gugun['세대수'] * 100\n",
    "job_gugun['평균매매가격'] = price_df.loc['2018-6-1'][local][job_gugun.index]\n",
    "job_gugun = job_gugun.dropna()"
   ]
  },
  {
   "cell_type": "code",
   "execution_count": null,
   "metadata": {},
   "outputs": [],
   "source": [
    "plt.figure(figsize=(12, 4))\n",
    "job_gugun.sort_values(by='고용자수', ascending=False)['고용자수'].plot(kind='bar', color='darkcyan')\n",
    "plt.axhline(y=job_gugun['고용자수'].mean(), color='orange', linewidth=2, ls='--')\n",
    "plt.xticks(rotation=45)\n",
    "plt.xlabel('')\n",
    "plt.ylabel('고용자수')\n",
    "plt.show()\n",
    "\n",
    "plt.figure(figsize=(12, 4))\n",
    "job_gugun.sort_values(by='세대수대비고용', ascending=False)['세대수대비고용'].plot(kind='bar', color='darkcyan')\n",
    "plt.axhline(y=job_sido['세대수대비고용'].mean(), color='orange', linewidth=2, ls='--')\n",
    "plt.xticks(rotation=45)\n",
    "plt.xlabel('')\n",
    "plt.ylabel('세대수 대비 고용자수 (%)')\n",
    "plt.show()"
   ]
  },
  {
   "cell_type": "code",
   "execution_count": null,
   "metadata": {},
   "outputs": [],
   "source": [
    "plt.figure(figsize=(10, 6))\n",
    "plt.scatter(job_gugun['고용자수'], job_gugun['세대수'], c=job_gugun['평균매매가격'], s=pd.to_numeric(job_gugun['평균매매가격'])*0.001, cmap=\"YlOrRd\", alpha=0.5)\n",
    "plt.xlabel('고용자수')\n",
    "plt.ylabel('세대수')\n",
    "\n",
    "for name in job_gugun.index:\n",
    "    plt.text(job_gugun['고용자수'][name]*1.01, job_gugun['세대수'][name], name)\n",
    "    \n",
    "plt.colorbar()\n",
    "plt.show()"
   ]
  },
  {
   "cell_type": "code",
   "execution_count": null,
   "metadata": {},
   "outputs": [],
   "source": [
    "plt.figure(figsize=(10, 6))\n",
    "plt.scatter(job_gugun['세대수대비고용'], job_gugun['세대수'], c=job_gugun['평균매매가격'], s=pd.to_numeric(job_gugun['평균매매가격'])*0.001, cmap=\"YlOrRd\", alpha=0.5)\n",
    "plt.xlabel('세대수 대비 고용자수 (%)')\n",
    "plt.ylabel('세대수')\n",
    "\n",
    "for name in job_gugun.index:\n",
    "    plt.text(job_gugun['세대수대비고용'][name]*1.01, job_gugun['세대수'][name], name)\n",
    "    \n",
    "plt.colorbar()\n",
    "plt.show()"
   ]
  }
 ],
 "metadata": {
  "kernelspec": {
   "display_name": "base",
   "language": "python",
   "name": "python3"
  },
  "language_info": {
   "codemirror_mode": {
    "name": "ipython",
    "version": 3
   },
   "file_extension": ".py",
   "mimetype": "text/x-python",
   "name": "python",
   "nbconvert_exporter": "python",
   "pygments_lexer": "ipython3",
   "version": "3.12.4"
  }
 },
 "nbformat": 4,
 "nbformat_minor": 2
}
